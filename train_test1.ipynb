{
 "cells": [
  {
   "cell_type": "code",
   "execution_count": 1,
   "metadata": {},
   "outputs": [
    {
     "name": "stdout",
     "output_type": "stream",
     "text": [
      "Loading the dataset...\n",
      "Loading file tang.pickle\n",
      "Number of training/test patches: (75739, 13365) 89104\n"
     ]
    }
   ],
   "source": [
    "import os\n",
    "import json\n",
    "import librosa\n",
    "import matplotlib.pyplot as plt\n",
    "from tqdm.notebook import tqdm\n",
    "import numpy as np\n",
    "import torch\n",
    "import torch.nn as nn\n",
    "from torch.utils.data import DataLoader\n",
    "from torch.utils.data.sampler import SubsetRandomSampler\n",
    "from data_loader import TANG\n",
    "from utils import *\n",
    "from model import AutoEncoderRNN, DecoderRNN\n",
    "from train_model import train_model\n",
    "\n",
    "device=torch.device('cuda:0')\n",
    "sequence_length = 100\n",
    "batch_size = 500\n",
    "\n",
    "dataset=TANG(seq_len=sequence_length, dataset_location='data/', normalize=False)\n",
    "dataset_size = len(dataset)\n",
    "indices = list(range(dataset_size))\n",
    "split = int(np.floor(0.15 * dataset_size))\n",
    "np.random.shuffle(indices)\n",
    "train_indices, test_indices = indices[split:], indices[:split]\n",
    "train_sampler = SubsetRandomSampler(train_indices)\n",
    "test_sampler = SubsetRandomSampler(test_indices)\n",
    "data_loaders={}\n",
    "dataset_sizes = {}\n",
    "data_loaders['train'] = DataLoader(dataset, batch_size=batch_size, sampler=train_sampler)\n",
    "data_loaders['val'] = DataLoader(dataset, batch_size=batch_size, sampler=test_sampler)\n",
    "dataset_sizes['val'] = len(test_indices)\n",
    "dataset_sizes['train'] = len(train_indices)\n",
    "print(\"Number of training/test patches:\", (len(train_indices),len(test_indices)), dataset.__len__())\n",
    "\n",
    "num_epochs = 10\n",
    "learning_rate = 10\n",
    "input_size = 69\n",
    "output_size = 16\n",
    "hidden_size = 64\n",
    "#model = nn.LSTM(input_size, output_size, num_layers = 3, bidirectional = False, batch_first = True)\n",
    "model = AutoEncoderRNN(input_size, hidden_size, num_layers = 2, seq_len = sequence_length, batch_size = batch_size, batch_first=True)\n",
    "predictor = DecoderRNN(hidden_size, output_size, num_layers = 2, bidirectional =False, batch_first=True)\n",
    "model = model.to(device)\n",
    "predictor = predictor.to(device)\n",
    "criterion = nn.MSELoss()\n",
    "optimizer1 = torch.optim.SGD(model.parameters(), lr=learning_rate)\n",
    "optimizer2 = torch.optim.SGD(predictor.parameters(), lr=learning_rate)\n",
    "#model, losses = train_model(model, predictor, device, data_loaders, dataset_sizes, criterion, optimizer1, optimizer2, num_epochs=num_epochs, batch_size = batch_size, train_predictor = False)\n",
    "model, losses = train_model(model, predictor, device, data_loaders, dataset_sizes, criterion, optimizer1, optimizer2, num_epochs=num_epochs, batch_size = batch_size, train_predictor = True)\n",
    "print(model)"
   ]
  },
  {
   "cell_type": "code",
   "execution_count": 2,
   "metadata": {},
   "outputs": [
    {
     "name": "stderr",
     "output_type": "stream",
     "text": [
      "  0%|          | 0/152 [00:00<?, ?it/s]\n"
     ]
    },
    {
     "ename": "NameError",
     "evalue": "name 'musics' is not defined",
     "output_type": "error",
     "traceback": [
      "\u001b[0;31m---------------------------------------------------------------------------\u001b[0m",
      "\u001b[0;31mNameError\u001b[0m                                 Traceback (most recent call last)",
      "\u001b[0;32m<ipython-input-2-3e678ffbb852>\u001b[0m in \u001b[0;36m<module>\u001b[0;34m\u001b[0m\n\u001b[1;32m     13\u001b[0m \u001b[0moptimizer2\u001b[0m \u001b[0;34m=\u001b[0m \u001b[0mtorch\u001b[0m\u001b[0;34m.\u001b[0m\u001b[0moptim\u001b[0m\u001b[0;34m.\u001b[0m\u001b[0mSGD\u001b[0m\u001b[0;34m(\u001b[0m\u001b[0mpredictor\u001b[0m\u001b[0;34m.\u001b[0m\u001b[0mparameters\u001b[0m\u001b[0;34m(\u001b[0m\u001b[0;34m)\u001b[0m\u001b[0;34m,\u001b[0m \u001b[0mlr\u001b[0m\u001b[0;34m=\u001b[0m\u001b[0mlearning_rate\u001b[0m\u001b[0;34m)\u001b[0m\u001b[0;34m\u001b[0m\u001b[0;34m\u001b[0m\u001b[0m\n\u001b[1;32m     14\u001b[0m \u001b[0;31m#model, losses = train_model(model, predictor, device, data_loaders, dataset_sizes, criterion, optimizer1, optimizer2, num_epochs=num_epochs, batch_size = batch_size, train_predictor = False)\u001b[0m\u001b[0;34m\u001b[0m\u001b[0;34m\u001b[0m\u001b[0;34m\u001b[0m\u001b[0m\n\u001b[0;32m---> 15\u001b[0;31m \u001b[0mmodel\u001b[0m\u001b[0;34m,\u001b[0m \u001b[0mlosses\u001b[0m \u001b[0;34m=\u001b[0m \u001b[0mtrain_model\u001b[0m\u001b[0;34m(\u001b[0m\u001b[0mmodel\u001b[0m\u001b[0;34m,\u001b[0m \u001b[0mpredictor\u001b[0m\u001b[0;34m,\u001b[0m \u001b[0mdevice\u001b[0m\u001b[0;34m,\u001b[0m \u001b[0mdata_loaders\u001b[0m\u001b[0;34m,\u001b[0m \u001b[0mdataset_sizes\u001b[0m\u001b[0;34m,\u001b[0m \u001b[0mcriterion\u001b[0m\u001b[0;34m,\u001b[0m \u001b[0moptimizer1\u001b[0m\u001b[0;34m,\u001b[0m \u001b[0moptimizer2\u001b[0m\u001b[0;34m,\u001b[0m \u001b[0mnum_epochs\u001b[0m\u001b[0;34m=\u001b[0m\u001b[0mnum_epochs\u001b[0m\u001b[0;34m,\u001b[0m \u001b[0mbatch_size\u001b[0m \u001b[0;34m=\u001b[0m \u001b[0mbatch_size\u001b[0m\u001b[0;34m,\u001b[0m \u001b[0mtrain_predictor\u001b[0m \u001b[0;34m=\u001b[0m \u001b[0;32mTrue\u001b[0m\u001b[0;34m)\u001b[0m\u001b[0;34m\u001b[0m\u001b[0;34m\u001b[0m\u001b[0m\n\u001b[0m\u001b[1;32m     16\u001b[0m \u001b[0mprint\u001b[0m\u001b[0;34m(\u001b[0m\u001b[0mmodel\u001b[0m\u001b[0;34m)\u001b[0m\u001b[0;34m\u001b[0m\u001b[0;34m\u001b[0m\u001b[0m\n",
      "\u001b[0;32m~/github/dancenet/train_model.py\u001b[0m in \u001b[0;36mtrain_model\u001b[0;34m(model, predictor, device, data_loaders, dataset_sizes, criterion, optimizer1, optimizer2, num_epochs, batch_size, train_predictor)\u001b[0m\n\u001b[1;32m     27\u001b[0m                 \u001b[0;32mfor\u001b[0m \u001b[0mstep\u001b[0m\u001b[0;34m,\u001b[0m \u001b[0;34m(\u001b[0m\u001b[0mmoves\u001b[0m\u001b[0;34m,\u001b[0m \u001b[0mmusic\u001b[0m\u001b[0;34m,\u001b[0m \u001b[0muid\u001b[0m\u001b[0;34m,\u001b[0m \u001b[0mseries_uid\u001b[0m\u001b[0;34m)\u001b[0m \u001b[0;32min\u001b[0m \u001b[0menumerate\u001b[0m\u001b[0;34m(\u001b[0m\u001b[0mdata_loaders\u001b[0m\u001b[0;34m[\u001b[0m\u001b[0mphase\u001b[0m\u001b[0;34m]\u001b[0m\u001b[0;34m)\u001b[0m\u001b[0;34m:\u001b[0m\u001b[0;34m\u001b[0m\u001b[0;34m\u001b[0m\u001b[0m\n\u001b[1;32m     28\u001b[0m                     \u001b[0mmoves\u001b[0m \u001b[0;34m=\u001b[0m \u001b[0mmoves\u001b[0m\u001b[0;34m.\u001b[0m\u001b[0mto\u001b[0m\u001b[0;34m(\u001b[0m\u001b[0mdevice\u001b[0m\u001b[0;34m)\u001b[0m\u001b[0;34m\u001b[0m\u001b[0;34m\u001b[0m\u001b[0m\n\u001b[0;32m---> 29\u001b[0;31m                     \u001b[0mmusic\u001b[0m \u001b[0;34m=\u001b[0m \u001b[0mmusics\u001b[0m\u001b[0;34m.\u001b[0m\u001b[0mto\u001b[0m\u001b[0;34m(\u001b[0m\u001b[0mdevice\u001b[0m\u001b[0;34m)\u001b[0m\u001b[0;34m\u001b[0m\u001b[0;34m\u001b[0m\u001b[0m\n\u001b[0m\u001b[1;32m     30\u001b[0m                     \u001b[0mmean\u001b[0m \u001b[0;34m=\u001b[0m \u001b[0mmusic\u001b[0m\u001b[0;34m.\u001b[0m\u001b[0mmean\u001b[0m\u001b[0;34m(\u001b[0m\u001b[0mdim\u001b[0m\u001b[0;34m=\u001b[0m\u001b[0;34m(\u001b[0m\u001b[0;36m0\u001b[0m\u001b[0;34m,\u001b[0m\u001b[0;36m1\u001b[0m\u001b[0;34m)\u001b[0m\u001b[0;34m)\u001b[0m\u001b[0;34m\u001b[0m\u001b[0;34m\u001b[0m\u001b[0m\n\u001b[1;32m     31\u001b[0m                     \u001b[0mstd\u001b[0m \u001b[0;34m=\u001b[0m \u001b[0mmusic\u001b[0m\u001b[0;34m.\u001b[0m\u001b[0mstd\u001b[0m\u001b[0;34m(\u001b[0m\u001b[0mdim\u001b[0m\u001b[0;34m=\u001b[0m\u001b[0;34m(\u001b[0m\u001b[0;36m0\u001b[0m\u001b[0;34m,\u001b[0m\u001b[0;36m1\u001b[0m\u001b[0;34m)\u001b[0m\u001b[0;34m)\u001b[0m\u001b[0;34m\u001b[0m\u001b[0;34m\u001b[0m\u001b[0m\n",
      "\u001b[0;31mNameError\u001b[0m: name 'musics' is not defined"
     ]
    }
   ],
   "source": [
    "num_epochs = 10\n",
    "learning_rate = 10\n",
    "input_size = 69\n",
    "output_size = 16\n",
    "hidden_size = 64\n",
    "#model = nn.LSTM(input_size, output_size, num_layers = 3, bidirectional = False, batch_first = True)\n",
    "model = AutoEncoderRNN(input_size, hidden_size, num_layers = 2, seq_len = sequence_length, batch_size = batch_size, batch_first=True)\n",
    "predictor = DecoderRNN(hidden_size, output_size, num_layers = 2, bidirectional =False, batch_first=True)\n",
    "model = model.to(device)\n",
    "predictor = predictor.to(device)\n",
    "criterion = nn.MSELoss()\n",
    "optimizer1 = torch.optim.SGD(model.parameters(), lr=learning_rate)\n",
    "optimizer2 = torch.optim.SGD(predictor.parameters(), lr=learning_rate)\n",
    "#model, losses = train_model(model, predictor, device, data_loaders, dataset_sizes, criterion, optimizer1, optimizer2, num_epochs=num_epochs, batch_size = batch_size, train_predictor = False)\n",
    "model, losses = train_model(model, predictor, device, data_loaders, dataset_sizes, criterion, optimizer1, optimizer2, num_epochs=num_epochs, batch_size = batch_size, train_predictor = True)\n",
    "print(model)"
   ]
  },
  {
   "cell_type": "code",
   "execution_count": null,
   "metadata": {},
   "outputs": [],
   "source": [
    "import copy\n",
    "import time\n",
    "losses = {'train': [], 'val': []}\n",
    "since = time.time()\n",
    "best_model_wts = copy.deepcopy(model.state_dict())\n",
    "best_loss = 100\n",
    "for epoch in range(num_epochs):\n",
    "    for phase in ['train', 'val']:\n",
    "        if phase == 'val':\n",
    "            # scheduler.step()\n",
    "            model.eval()\n",
    "        else:\n",
    "            model.train()\n",
    "        running_loss = 0.0\n",
    "        with tqdm(total = dataset_sizes[phase]//batch_size + 1) as pb:\n",
    "            for step, (moves, musics, uid, series_uid) in enumerate(data_loaders[phase]):\n",
    "                moves = moves.to(device)\n",
    "                music = musics.to(device)\n",
    "                mean = music.mean(dim=(0,1))\n",
    "                std = music.std(dim=(0,1))\n",
    "                for i in range(16):\n",
    "                    if std[i] == 0:\n",
    "                        std[i] = 1 \n",
    "                #print(mean,std)\n",
    "                music = (music-mean)/std\n",
    "                moves = (moves-moves.mean(dim=(0,1)))/moves.std(dim=(0,1))\n",
    "                #print(music[0][0]!=music[0][0])\n",
    "                \n",
    "                optimizer.zero_grad()\n",
    "                with torch.set_grad_enabled(phase != 'val'):\n",
    "                    outputs, _ = model(moves)\n",
    "                    #print(outputs[0][0], music[0][0])\n",
    "                    #inv_idx = torch.arange(sequence_length - 1, -1, -1).long()\n",
    "                    loss = criterion(outputs, music)\n",
    "                    if phase != 'val':\n",
    "                        loss.backward()\n",
    "                        optimizer.step()\n",
    "                running_loss += loss.item() \n",
    "                pb.set_description('Epoch {} / {}  {} Loss: {:4f}'.format(epoch + 1, num_epochs, phase, running_loss/(step+1)))\n",
    "                pb.update(1)\n",
    "                \n",
    "        epoch_loss = running_loss * batch_size / dataset_sizes[phase]\n",
    "        losses[phase].append(epoch_loss) \n",
    "        if phase == 'val' and epoch_loss < best_loss:\n",
    "            best_loss = epoch_loss\n",
    "            best_model_wts = copy.deepcopy(model.state_dict())\n",
    "        #pb.set_description('Epoch {} / {}  {} Loss: {:4f}'.format(epoch + 1, num_epochs, phase, epoch_loss))\n",
    "    #pb.update(1)\n",
    "        \n",
    "time_elapsed = time.time() - since\n",
    "print('Training complete in {:.0f}m {:0f}s'.format(time_elapsed // 60, time_elapsed % 60))\n",
    "print('Best val loss: {:4f}'.format(best_loss))\n",
    "model.load_state_dict(best_model_wts)"
   ]
  },
  {
   "cell_type": "code",
   "execution_count": null,
   "metadata": {},
   "outputs": [],
   "source": [
    "plt.figure(figsize=(20, 10))\n",
    "\n",
    "for phase in ['train', 'val']:\n",
    "    plt.plot(losses[phase], label='{} loss'.format(phase))\n",
    " \n",
    "plt.legend()\n",
    "\n",
    "plt.title('train/val losses')\n",
    "\n",
    "plt.xlabel('iteration')\n",
    "plt.ylabel('loss')\n",
    "\n",
    "plt.grid(True)"
   ]
  },
  {
   "cell_type": "code",
   "execution_count": null,
   "metadata": {},
   "outputs": [],
   "source": []
  }
 ],
 "metadata": {
  "kernelspec": {
   "display_name": "Python 3",
   "language": "python",
   "name": "python3"
  },
  "language_info": {
   "codemirror_mode": {
    "name": "ipython",
    "version": 3
   },
   "file_extension": ".py",
   "mimetype": "text/x-python",
   "name": "python",
   "nbconvert_exporter": "python",
   "pygments_lexer": "ipython3",
   "version": "3.8.3"
  }
 },
 "nbformat": 4,
 "nbformat_minor": 2
}
